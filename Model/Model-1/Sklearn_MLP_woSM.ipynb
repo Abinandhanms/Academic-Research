{
  "nbformat": 4,
  "nbformat_minor": 0,
  "metadata": {
    "colab": {
      "name": "Sklearn_MLP_woSM.ipynb",
      "version": "0.3.2",
      "provenance": [],
      "collapsed_sections": []
    },
    "kernelspec": {
      "name": "python3",
      "display_name": "Python 3"
    },
    "accelerator": "TPU"
  },
  "cells": [
    {
      "cell_type": "code",
      "metadata": {
        "id": "5dkDMBGDcEzB",
        "colab_type": "code",
        "colab": {}
      },
      "source": [
        "# Run this cell to mount your Google Drive.\n",
        "from google.colab import drive\n",
        "drive.mount('/content/drive')"
      ],
      "execution_count": 0,
      "outputs": []
    },
    {
      "cell_type": "code",
      "metadata": {
        "id": "tox0LNS2cJGv",
        "colab_type": "code",
        "colab": {}
      },
      "source": [
        "import pandas as pd\n",
        "import numpy as np\n",
        "from sklearn.model_selection import train_test_split,KFold,cross_val_score,StratifiedShuffleSplit\n",
        "from sklearn.neural_network import MLPClassifier\n",
        "from sklearn.metrics import accuracy_score\n",
        "from sklearn.metrics import confusion_matrix,classification_report\n",
        "from sklearn.model_selection import StratifiedKFold\n",
        "from sklearn import preprocessing\n",
        "import matplotlib.pyplot as plt\n",
        "from sklearn.preprocessing import LabelEncoder, OneHotEncoder\n",
        "from collections import Counter\n",
        "import seaborn as sns"
      ],
      "execution_count": 0,
      "outputs": []
    },
    {
      "cell_type": "code",
      "metadata": {
        "id": "PvQk0YLpcREZ",
        "colab_type": "code",
        "colab": {}
      },
      "source": [
        "data = pd.read_csv(\"drive/My Drive/Thesis/Wildfire.csv\")\n",
        "X = data.loc[:,['NDVI','LST','Burned_Area']].values.astype('float32')\n",
        "nor_X = preprocessing.normalize(X)\n",
        "Y = data.loc[:,['Class']].values.astype('int')\n",
        "labelencoder_y_1 = LabelEncoder()\n",
        "Y = labelencoder_y_1.fit_transform(Y)"
      ],
      "execution_count": 0,
      "outputs": []
    },
    {
      "cell_type": "code",
      "metadata": {
        "id": "pWq-laTHIjOp",
        "colab_type": "code",
        "colab": {}
      },
      "source": [
        "np.random.seed(1080)\n",
        "X_train, X_test, y_train, y_test = train_test_split(X,Y,test_size = 0.20)"
      ],
      "execution_count": 0,
      "outputs": []
    },
    {
      "cell_type": "code",
      "metadata": {
        "id": "XFTkOXUGitZ6",
        "colab_type": "code",
        "colab": {}
      },
      "source": [
        "kfold = StratifiedShuffleSplit(n_splits=10, test_size=0.15, random_state=12)\n",
        "training_accuracy = []\n",
        "testing_accuracy = []\n",
        "epochs=10\n",
        "for train, test in kfold.split(X_train, y_train):\n",
        "\n",
        "  clf = MLPClassifier(solver='sgd',learning_rate='adaptive',momentum=0.9, activation='relu',alpha=5, batch_size='auto',verbose=True,n_iter_no_change = epochs)\n",
        "  clf.fit(X[train],Y[train])\n",
        "  model = clf\n",
        "  \n",
        "  #training accuracy\n",
        "  y_tr_pred = clf.predict(X[train])\n",
        "  results_tr = cross_val_score(model, X[train] ,y_tr_pred, cv = kfold,verbose=1)\n",
        "  training_accuracy.append(results_tr.max()*100.0)\n",
        "  \n",
        "  #testing Accuracy\n",
        "  y_te_pred = clf.predict(X[test])\n",
        "  results = cross_val_score(model, X[test] ,y_te_pred, cv = kfold,verbose=1)\n",
        "  testing_accuracy.append(results.max()*100.0)\n",
        "  \n",
        "  print(\"----------------------------------\")\n",
        "  print(confusion_matrix(Y[test],y_te_pred))\n",
        "  print(\"----------------------------------\")\n",
        "  print(classification_report(Y[test],y_te_pred))\n",
        "  \n",
        "  print(\"Training Accuracy (Shuffle Split) : %.3f%% (%.3f%%)\" % (results_tr.max()*100.0, results_tr.std()*100.0))\n",
        "  print(\"Prediction Accuracy (Shuffle Split) : %.3f%% (%.3f%%)\" % (results.max()*100.0, results.std()*100.0))"
      ],
      "execution_count": 0,
      "outputs": []
    },
    {
      "cell_type": "code",
      "metadata": {
        "id": "dMc9XI2WkLfV",
        "colab_type": "code",
        "colab": {}
      },
      "source": [
        " print(confusion_matrix(y_test,y_te_pred))"
      ],
      "execution_count": 0,
      "outputs": []
    },
    {
      "cell_type": "code",
      "metadata": {
        "id": "K6mBh3ALkXe1",
        "colab_type": "code",
        "colab": {}
      },
      "source": [
        "print(classification_report(y_test,y_te_pred))"
      ],
      "execution_count": 0,
      "outputs": []
    },
    {
      "cell_type": "code",
      "metadata": {
        "id": "qZha4StXcZ_L",
        "colab_type": "code",
        "colab": {}
      },
      "source": [
        "iterations = list(range(epochs))\n",
        "plt.plot(iterations, training_accuracy, label='Train')\n",
        "plt.plot(iterations, testing_accuracy, label='Test')\n",
        "plt.ylabel('Accuracy')\n",
        "plt.xlabel('iterations')\n",
        "plt.legend(loc='upper right')\n",
        "plt.show()"
      ],
      "execution_count": 0,
      "outputs": []
    }
  ]
}